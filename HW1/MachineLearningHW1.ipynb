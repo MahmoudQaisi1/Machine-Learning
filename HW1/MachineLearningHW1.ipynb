{
  "nbformat": 4,
  "nbformat_minor": 0,
  "metadata": {
    "colab": {
      "provenance": []
    },
    "kernelspec": {
      "name": "python3",
      "display_name": "Python 3"
    },
    "language_info": {
      "name": "python"
    }
  },
  "cells": [
    {
      "cell_type": "markdown",
      "source": [
        "Machine Learning and Data Science ‐ ENCS5341\n",
        "Homework #1\n",
        "\n",
        "---\n",
        "\n",
        "\n",
        "Mahmoud Qaisi -190831"
      ],
      "metadata": {
        "id": "jlI3rzOMPZwq"
      }
    },
    {
      "cell_type": "markdown",
      "source": [
        "In this project it is required to implment Simple Linear regression and Gradient descent using python and then using that implmention to preform regression on the provided data. These are necessry libraries in this project."
      ],
      "metadata": {
        "id": "uJ_tiPOzQWPZ"
      }
    },
    {
      "cell_type": "code",
      "execution_count": null,
      "metadata": {
        "id": "jLaWGz7BPS3K"
      },
      "outputs": [],
      "source": [
        "import pandas as pd\n",
        "import matplotlib.pyplot as plt\n",
        "import numpy as np\n",
        "from sklearn.linear_model import LinearRegression as lr"
      ]
    },
    {
      "cell_type": "markdown",
      "source": [
        "The first step is reading the data from the provided file (grades.csv). Upon inspection the data requires little to no preprocessing.\n",
        "1. The missing fileds (indicated by zero) were replaced using the average value of the rest of the fields in the row."
      ],
      "metadata": {
        "id": "vDXFK35ER6dx"
      }
    },
    {
      "cell_type": "code",
      "source": [
        "def ReplaceZeros(data):\n",
        "    for row in data:\n",
        "        for x in range(0, len(row)):\n",
        "            if row[x] == 0:\n",
        "                row[x] = int(sum(row) / 5)\n",
        "    return data\n",
        "\n",
        "data = pd.read_csv(\"grades.csv\", skiprows=0, index_col=False)\n",
        "data = data.values.tolist()\n",
        "data = ReplaceZeros(data)"
      ],
      "metadata": {
        "id": "E77TYqMdSera"
      },
      "execution_count": null,
      "outputs": []
    },
    {
      "cell_type": "markdown",
      "source": [
        "2. In order to determine which filed of the inputs ( HW1,HW2,Midterm,Project ) must be used to use, The correlation was calculated between each column and the output."
      ],
      "metadata": {
        "id": "sOB4HxSBSwqJ"
      }
    },
    {
      "cell_type": "code",
      "source": [
        "def SplitList(data):\n",
        "    data1 = []\n",
        "    data2 = []\n",
        "    data3 = []\n",
        "    data4 = []\n",
        "    y = []\n",
        "    for row in data:\n",
        "        data1.append(int(row[0]))\n",
        "        data2.append(int(row[1]))\n",
        "        data3.append(int(row[2]))\n",
        "        data4.append(int(row[3]))\n",
        "        y.append(int(row[4]))\n",
        "    return np.array(data1), np.array(data2), np.array(data3), np.array(data4), np.array(y)\n",
        "\n",
        "data1, data2, data3, data4, y = SplitList(data)\n",
        "\n",
        "figure, axis = plt.subplots(2, 2, figsize=(15,10))\n",
        "\n",
        "axis[0, 0].scatter(data1, y, s=4)\n",
        "axis[0, 0].set_title(\"HW1\")\n",
        "\n",
        "axis[0, 1].scatter(data2, y, s=4)\n",
        "axis[0, 1].set_title(\"HW2\")\n",
        "\n",
        "axis[1, 0].scatter(data3, y, s=4)\n",
        "axis[1, 0].set_title(\"Midterm\")\n",
        "\n",
        "axis[1, 1].scatter(data4, y, s=4)\n",
        "axis[1, 1].set_title(\"Project\")\n",
        "\n",
        "plt.show()\n",
        "\n",
        "print('HW1:'+str(np.corrcoef(data1,y)[0,1]))\n",
        "print('HW2:'+str(np.corrcoef(data2,y)[0,1]))\n",
        "print('Midterm:'+str(np.corrcoef(data3,y)[0,1]))\n",
        "print('Project:'+str(np.corrcoef(data4,y)[0,1]))\n"
      ],
      "metadata": {
        "colab": {
          "base_uri": "https://localhost:8080/",
          "height": 676
        },
        "id": "Uwl0gAUIUVmP",
        "outputId": "7854f862-be76-4cd7-a053-bb9a5d49c762"
      },
      "execution_count": null,
      "outputs": [
        {
          "output_type": "display_data",
          "data": {
            "text/plain": [
              "<Figure size 1080x720 with 4 Axes>"
            ],
            "image/png": "[encoded data removed]"
          },
          "metadata": {
            "needs_background": "light"
          }
        },
        {
          "output_type": "stream",
          "name": "stdout",
          "text": [
            "HW1:0.7088524939468588\n",
            "HW2:0.5663319843584355\n",
            "Midterm:0.8906808520418152\n",
            "Project:0.5364657191965538\n"
          ]
        }
      ]
    },
    {
      "cell_type": "markdown",
      "source": [
        "Clearly from the results above the Midterm has the highest corelation to the output. data3 is chosen to use in this process.\n",
        "\n",
        "---\n",
        "3. Simple Linear Regression:\n",
        "The equations used for w0 and w1 were from the slides."
      ],
      "metadata": {
        "id": "-C9BxhiGXH1_"
      }
    },
    {
      "cell_type": "code",
      "source": [
        "def linearRegression(x, y):\n",
        "    n = len(y)\n",
        "    w1 = (sum(np.multiply(x, y)) - (sum(y) * sum(x)) / n) / (sum(np.multiply(x, x)) - (sum(x) * sum(x)) / n)\n",
        "    w0 = (sum(y) / n) - (w1 * sum(x) / n)\n",
        "    return w0, w1\n",
        "\n",
        "w0, w1 = linearRegression(data3, y)\n",
        "y_pred = w0 + data3*w1\n",
        "\n",
        "plt.figure(figsize=(12,7))\n",
        "plt.scatter(data3, y, s=4)\n",
        "plt.plot(data3, y_pred, c=\"r\")"
      ],
      "metadata": {
        "colab": {
          "base_uri": "https://localhost:8080/",
          "height": 445
        },
        "id": "eSHgP7kWZZdf",
        "outputId": "64f898f3-b8da-40dd-d128-5326a341260d"
      },
      "execution_count": null,
      "outputs": [
        {
          "output_type": "execute_result",
          "data": {
            "text/plain": [
              "[<matplotlib.lines.Line2D at 0x7f7fbcdf4a30>]"
            ]
          },
          "metadata": {},
          "execution_count": 26
        },
        {
          "output_type": "display_data",
          "data": {
            "text/plain": [
              "<Figure size 864x504 with 1 Axes>"
            ],
            "image/png": "[encoded data removed]"
          },
          "metadata": {
            "needs_background": "light"
          }
        }
      ]
    },
    {
      "cell_type": "markdown",
      "source": [
        "4. Gradient Descent:\n",
        "The following is the implmentation of gradient descent."
      ],
      "metadata": {
        "id": "ciCgWC2EaUmf"
      }
    },
    {
      "cell_type": "code",
      "source": [
        "def mean_squared_error(y_true, y_predicted):\n",
        "    cost = np.sum((y_true - y_predicted) ** 2) / len(y_true)\n",
        "    return cost\n",
        "\n",
        "\n",
        "def gradient_descent(x, y, iterations=1000, learning_rate=0.0001, stopping_threshold=1e-6):\n",
        "    current_weight = 0.1\n",
        "    current_bias = 0.01\n",
        "    iterations = iterations\n",
        "    learning_rate = learning_rate\n",
        "    n = float(len(x))\n",
        "\n",
        "    costs = []\n",
        "    weights = []\n",
        "    previous_cost = None\n",
        "\n",
        "    for i in range(iterations):\n",
        "\n",
        "        y_predicted = (current_weight * x) + current_bias\n",
        "\n",
        "        current_cost = mean_squared_error(y, y_predicted)\n",
        "\n",
        "        if previous_cost and abs(previous_cost - current_cost) <= stopping_threshold:\n",
        "            break\n",
        "\n",
        "        previous_cost = current_cost\n",
        "\n",
        "        costs.append(current_cost)\n",
        "        weights.append(current_weight)\n",
        "\n",
        "        weight_derivative = -(2 / n) * sum(x * (y - y_predicted))\n",
        "        bias_derivative = -(2 / n) * sum(y - y_predicted)\n",
        "\n",
        "        current_weight = current_weight - (learning_rate * weight_derivative)\n",
        "        current_bias = current_bias - (learning_rate * bias_derivative)\n",
        "\n",
        "    return current_weight, current_bias\n",
        "\n",
        "w2, w3 = gradient_descent(data3, y)\n",
        "\n",
        "y_pred2 = w2 * data3 + w3\n",
        "\n",
        "plt.figure(figsize=(12,7))\n",
        "plt.scatter(data3, y, s=4)\n",
        "plt.plot(data3, y_pred2, c=\"g\")"
      ],
      "metadata": {
        "colab": {
          "base_uri": "https://localhost:8080/",
          "height": 445
        },
        "id": "bAptU7E-aj0A",
        "outputId": "74732970-ae92-4e08-f60c-22133fe2490f"
      },
      "execution_count": null,
      "outputs": [
        {
          "output_type": "execute_result",
          "data": {
            "text/plain": [
              "[<matplotlib.lines.Line2D at 0x7f7fbc8f1670>]"
            ]
          },
          "metadata": {},
          "execution_count": 27
        },
        {
          "output_type": "display_data",
          "data": {
            "text/plain": [
              "<Figure size 864x504 with 1 Axes>"
            ],
            "image/png": "[encoded data removed]"
          },
          "metadata": {
            "needs_background": "light"
          }
        }
      ]
    },
    {
      "cell_type": "markdown",
      "source": [],
      "metadata": {
        "id": "Q1Vt1OyybwLJ"
      }
    },
    {
      "cell_type": "code",
      "source": [
        "regressor = lr()\n",
        "\n",
        "dataT = data3.reshape(-1,1)\n",
        "yT = y.reshape(-1,1)\n",
        "\n",
        "regressor.fit(dataT, yT)\n",
        "\n",
        "y_pred3 = regressor.coef_ * data3 + regressor.intercept_\n",
        "\n",
        "plt.figure(figsize=(12,7))\n",
        "plt.scatter(data3, y, s=4)\n",
        "plt.plot(data3, y_pred3[0])"
      ],
      "metadata": {
        "colab": {
          "base_uri": "https://localhost:8080/",
          "height": 445
        },
        "id": "gcQNt5o7bwuP",
        "outputId": "9133f5fa-1cb9-4184-9e13-bb916a657975"
      },
      "execution_count": null,
      "outputs": [
        {
          "output_type": "execute_result",
          "data": {
            "text/plain": [
              "[<matplotlib.lines.Line2D at 0x7f7fbc94c850>]"
            ]
          },
          "metadata": {},
          "execution_count": 28
        },
        {
          "output_type": "display_data",
          "data": {
            "text/plain": [
              "<Figure size 864x504 with 1 Axes>"
            ],
            "image/png": "[encoded data removed]"
          },
          "metadata": {
            "needs_background": "light"
          }
        }
      ]
    },
    {
      "cell_type": "markdown",
      "source": [
        "In order to compare the results from different models, The mean squared error will be used. As the results will show, the error in the gradient descent was higher the the simple linear regression. And the error in the implmented simple linear regression was identrical to the one from the library."
      ],
      "metadata": {
        "id": "TkY2pqfbfwpj"
      }
    },
    {
      "cell_type": "code",
      "source": [
        "mse1 = mean_squared_error(y,y_pred)\n",
        "mse2 = mean_squared_error(y,y_pred2)\n",
        "mse3 = mean_squared_error(y,y_pred3)\n",
        "\n",
        "print('Simple Linear Regression: ' + str(mse1))\n",
        "print('Gradient Descent: ' + str(mse2))\n",
        "print('scikit-learn Linear Regression: '+str(mse3))"
      ],
      "metadata": {
        "colab": {
          "base_uri": "https://localhost:8080/"
        },
        "id": "vLlSgXADf8dD",
        "outputId": "952b7411-6dfa-4711-ad77-fdb0a34da60c"
      },
      "execution_count": null,
      "outputs": [
        {
          "output_type": "stream",
          "name": "stdout",
          "text": [
            "Simple Linear Regression: 45.2579279060308\n",
            "Gradient Descent: 61.59717990480109\n",
            "scikit-learn Linear Regression: 45.257927906030815\n"
          ]
        }
      ]
    }
  ]
}