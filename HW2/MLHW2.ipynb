{
  "nbformat": 4,
  "nbformat_minor": 0,
  "metadata": {
    "colab": {
      "provenance": []
    },
    "kernelspec": {
      "name": "python3",
      "display_name": "Python 3"
    },
    "language_info": {
      "name": "python"
    }
  },
  "cells": [
    {
      "cell_type": "markdown",
      "source": [
        "Machine Learning and Data Science ‐ ENCS5341\n",
        "Homework #2\n",
        "\n",
        "---\n",
        "\n",
        "\n",
        "Mahmoud Qaisi -190831"
      ],
      "metadata": {
        "id": "jlI3rzOMPZwq"
      }
    },
    {
      "cell_type": "markdown",
      "source": [
        "1- The first tasl in this homework is to learn a logistic regression model with a linear decision boundary by implementing the gradient descent algorithm. Then drawing the decicion boundary in order to classify the provided data. These are necessry libraries used in the code."
      ],
      "metadata": {
        "id": "5tQRq4RjC-hf"
      }
    },
    {
      "cell_type": "code",
      "source": [
        "import pandas as pd\n",
        "import matplotlib.pyplot as plt\n",
        "import numpy as np\n",
        "from sklearn.linear_model import LogisticRegression"
      ],
      "metadata": {
        "id": "JzwotUgd3XxY"
      },
      "execution_count": 1,
      "outputs": []
    },
    {
      "cell_type": "markdown",
      "source": [
        "The first step is to read the training data. Notice that the class field is rpresented as (C1,C2) values so we must map these values to (0,1)."
      ],
      "metadata": {
        "id": "p5guL-9O7WRm"
      }
    },
    {
      "cell_type": "code",
      "source": [
        "def res(data):\n",
        "    y = np.zeros(len(data))\n",
        "    for i in range(len(data)):\n",
        "        if data[i] == 'C1':\n",
        "            y[i] = 0\n",
        "        else:\n",
        "            y[i] = 1\n",
        "    return y\n",
        "\n",
        "data = pd.read_csv(\"train.csv\", skiprows=0, index_col=False)\n",
        "X = data.iloc[:, [0,1]].to_numpy()\n",
        "y = res(data['class'].tolist())"
      ],
      "metadata": {
        "id": "ag66eD429BeO"
      },
      "execution_count": 2,
      "outputs": []
    },
    {
      "cell_type": "markdown",
      "source": [
        "We start building our model by creating the ncessery functions for it."
      ],
      "metadata": {
        "id": "-K55Nl629VGN"
      }
    },
    {
      "cell_type": "code",
      "source": [
        "def sigmoid(z):\n",
        "    return 1 / (1 + np.exp(-z))\n",
        "\n",
        "def model(x, w):  #our log likelyhood function.\n",
        "    return sigmoid(np.dot(x, w))\n",
        "\n",
        "def binary_cross_entropy(y, p):\n",
        "  return -np.mean(y * np.log(p) + (1 - y) * np.log(1 - p))\n",
        "\n",
        "def gradient(X, y, p): # this function caluclates the next iteration of weights.\n",
        "  return np.dot(X.T, p - y) / len(y)"
      ],
      "metadata": {
        "id": "_9eTdZs69kaV"
      },
      "execution_count": 3,
      "outputs": []
    },
    {
      "cell_type": "markdown",
      "source": [
        "Then we set our parameters and initial wgheits to start the learning process."
      ],
      "metadata": {
        "id": "79r8iN3392Z9"
      }
    },
    {
      "cell_type": "code",
      "source": [
        "X = np.hstack([np.ones((X.shape[0], 1)), X]) # a column of ones was added to ease the process of dot product.\n",
        "alpha = 0.01\n",
        "num_iter = 20000\n",
        "w = np.zeros(X.shape[1])\n",
        "loss = 100000000\n",
        "err_m = 1e-9\n",
        "\n",
        "for i in range(num_iter):   \n",
        "  p = model(X, w)\n",
        "  grad = gradient(X, y, p)\n",
        "  w -= alpha * grad"
      ],
      "metadata": {
        "id": "rR2kWGmA-VN1"
      },
      "execution_count": 9,
      "outputs": []
    },
    {
      "cell_type": "markdown",
      "source": [
        "After obtaining the final iteraton of weights, we use these weights to predict the output and compare it to the given output in the training set to calculate the accuracy."
      ],
      "metadata": {
        "id": "zjs4LAxK_F6l"
      }
    },
    {
      "cell_type": "code",
      "source": [
        "predictions = (model(X, w) > 0.5).astype(int)\n",
        "accuracy = np.mean(predictions == y)\n",
        "print(\"Accuracy:\", accuracy)"
      ],
      "metadata": {
        "colab": {
          "base_uri": "https://localhost:8080/"
        },
        "id": "oJiiI1F__wcM",
        "outputId": "2c1bc791-ed76-46b4-9529-b06b9a2fdd3b"
      },
      "execution_count": 10,
      "outputs": [
        {
          "output_type": "stream",
          "name": "stdout",
          "text": [
            "Accuracy: 0.6774193548387096\n"
          ]
        }
      ]
    },
    {
      "cell_type": "markdown",
      "source": [
        "Finally we will plot the decion boundry along with a scatter plot of the data."
      ],
      "metadata": {
        "id": "xHymD1dy_2O0"
      }
    },
    {
      "cell_type": "code",
      "source": [
        "# Plot the decision boundary\n",
        "x1 = np.linspace(X[:, 1].min(), X[:, 1].max(), 100)\n",
        "x2 = -(w[0] + w[1]*x1) / w[2]\n",
        "plt.plot(x1, x2, \"k--\")\n",
        "\n",
        "# Plot the data points\n",
        "plt.scatter(X[:, 1], X[:, 2], c=y)\n",
        "plt.show()"
      ],
      "metadata": {
        "colab": {
          "base_uri": "https://localhost:8080/",
          "height": 265
        },
        "id": "8_RjJC94ANTM",
        "outputId": "590ebd01-dcf7-4629-ac38-4b63768b4e4f"
      },
      "execution_count": 11,
      "outputs": [
        {
          "output_type": "display_data",
          "data": {
            "text/plain": [
              "<Figure size 432x288 with 1 Axes>"
            ],
            "image/png": "[encoded data removed]"
          },
          "metadata": {
            "needs_background": "light"
          }
        }
      ]
    },
    {
      "cell_type": "markdown",
      "source": [
        "Now we use the same model we just trained to predict the output of the testing data."
      ],
      "metadata": {
        "id": "zIGsKwIQAxTc"
      }
    },
    {
      "cell_type": "code",
      "source": [
        "data = pd.read_csv(\"test.csv\", skiprows=0, index_col=False)\n",
        "X = data.iloc[:, [0,1]].to_numpy()\n",
        "y = res(data['class'].tolist())\n",
        "\n",
        "X = np.hstack([np.ones((X.shape[0], 1)), X])\n",
        "\n",
        "predictions = (model(X, w) > 0.5).astype(int)\n",
        "accuracy = np.mean(predictions == y)\n",
        "print(\"Accuracy:\", accuracy)\n",
        "\n",
        "x1 = np.linspace(X[:, 1].min(), X[:, 1].max(), 100)\n",
        "x2 = -(w[0] + w[1]*x1) / w[2]\n",
        "\n",
        "plt.plot(x1, x2, \"k--\")\n",
        "\n",
        "plt.scatter(X[:, 1], X[:, 2], c=y)\n",
        "plt.show()"
      ],
      "metadata": {
        "colab": {
          "base_uri": "https://localhost:8080/",
          "height": 284
        },
        "id": "7ev4Lk1mBHJM",
        "outputId": "17772e4f-229b-4e30-bfd3-b22f556c864f"
      },
      "execution_count": 12,
      "outputs": [
        {
          "output_type": "stream",
          "name": "stdout",
          "text": [
            "Accuracy: 0.6363636363636364\n"
          ]
        },
        {
          "output_type": "display_data",
          "data": {
            "text/plain": [
              "<Figure size 432x288 with 1 Axes>"
            ],
            "image/png": "[encoded data removed]"
          },
          "metadata": {
            "needs_background": "light"
          }
        }
      ]
    },
    {
      "cell_type": "markdown",
      "source": [
        "2- The Second task is to use a non-linear decision boundary in the form of \"w0+w1*x1^2+w2^2\". In order to accomplish this we must make a few changes. we must square the input data and adjust the value of alpha."
      ],
      "metadata": {
        "id": "8V4xBByKGkgi"
      }
    },
    {
      "cell_type": "code",
      "source": [
        "data = pd.read_csv(\"train.csv\", skiprows=0, index_col=False)\n",
        "X = data.iloc[:, [0,1]].to_numpy()\n",
        "y = res(data['class'].tolist())\n",
        "X_sqr = np.square(X)\n",
        "X_sqr = np.hstack([np.ones((X_sqr.shape[0], 1)), X_sqr])\n",
        "\n",
        "alpha = 0.4\n",
        "num_iter = 30000\n",
        "w = np.zeros(X_sqr.shape[1])\n"
      ],
      "metadata": {
        "id": "P4FjiVatHcDq"
      },
      "execution_count": 13,
      "outputs": []
    },
    {
      "cell_type": "markdown",
      "source": [
        "Now we must train our model using our transformed data. And predict the output of our training data to observe the accuracy of our model."
      ],
      "metadata": {
        "id": "HRPGnZbeHsEy"
      }
    },
    {
      "cell_type": "code",
      "source": [
        "for i in range(num_iter):\n",
        "  p = model(X_sqr, w)\n",
        "  grad = gradient(X_sqr, y, p)\n",
        "  w -= alpha * grad\n",
        "\n",
        "predictions = (model(X_sqr, w) > 0.5).astype(int)\n",
        "accuracy = np.mean(predictions == y)\n",
        "print(\"Accuracy:\", accuracy)"
      ],
      "metadata": {
        "colab": {
          "base_uri": "https://localhost:8080/"
        },
        "id": "wDW-GmFNIa8p",
        "outputId": "fe7a0922-8193-42fe-e9be-cf2ac87f7956"
      },
      "execution_count": 15,
      "outputs": [
        {
          "output_type": "stream",
          "name": "stdout",
          "text": [
            "Accuracy: 1.0\n"
          ]
        }
      ]
    },
    {
      "cell_type": "markdown",
      "source": [
        "Now in order to plot the decision boundary we use the np.meshgrid to draw out circle."
      ],
      "metadata": {
        "id": "cdPYPg6JIeM6"
      }
    },
    {
      "cell_type": "code",
      "source": [
        "x1 = np.linspace(X[:, 0].min(),X[:, 0].max(), 100)\n",
        "x2 = np.linspace(X[:, 1].min(),X[:, 1].max(), 100)\n",
        "x1, x2 = np.meshgrid(x1, x2)\n",
        "z = w[0] + w[1]*x1**2 + w[2]*x2**2\n",
        "z = sigmoid(z)\n",
        "plt.contour(x1, x2, z, levels=[0.5], cmap=\"gray\")\n",
        "\n",
        "plt.scatter(X[:, 0], X[:, 1], c=y)\n",
        "plt.show()"
      ],
      "metadata": {
        "colab": {
          "base_uri": "https://localhost:8080/",
          "height": 265
        },
        "id": "BROtuhVCIdp5",
        "outputId": "5dd05e29-0af2-498c-e7c7-acd6e69e6d8b"
      },
      "execution_count": 16,
      "outputs": [
        {
          "output_type": "display_data",
          "data": {
            "text/plain": [
              "<Figure size 432x288 with 1 Axes>"
            ],
            "image/png": "[encoded data removed]"
          },
          "metadata": {
            "needs_background": "light"
          }
        }
      ]
    },
    {
      "cell_type": "markdown",
      "source": [
        "Repeat the previous steps on the testing data."
      ],
      "metadata": {
        "id": "2FVUaTZKJJra"
      }
    },
    {
      "cell_type": "code",
      "source": [
        "data = pd.read_csv(\"test.csv\", skiprows=0, index_col=False)\n",
        "X = data.iloc[:, [0,1]].to_numpy()\n",
        "y = res(data['class'].tolist())\n",
        "X_sqr = np.square(X)\n",
        "X_sqr = np.hstack([np.ones((X_sqr.shape[0], 1)), X_sqr])\n",
        "\n",
        "predictions = (model(X_sqr, w) > 0.5).astype(int)\n",
        "accuracy = np.mean(predictions == y)\n",
        "print(\"Accuracy:\", accuracy)"
      ],
      "metadata": {
        "colab": {
          "base_uri": "https://localhost:8080/"
        },
        "id": "V0OeVOqFJtJC",
        "outputId": "be5adc9a-9668-41a4-dbe6-f9997164321d"
      },
      "execution_count": 17,
      "outputs": [
        {
          "output_type": "stream",
          "name": "stdout",
          "text": [
            "Accuracy: 0.9545454545454546\n"
          ]
        }
      ]
    },
    {
      "cell_type": "code",
      "source": [
        "x1 = np.linspace(X[:, 0].min(),X[:, 0].max(), 100)\n",
        "x2 = np.linspace(X[:, 1].min(),X[:, 1].max(), 100)\n",
        "x1, x2 = np.meshgrid(x1, x2)\n",
        "z = w[0] + w[1]*x1**2 + w[2]*x2**2\n",
        "z = sigmoid(z)\n",
        "plt.contour(x1, x2, z, levels=[0.5], cmap=\"gray\")\n",
        "\n",
        "plt.scatter(X[:, 0], X[:, 1], c=y)\n",
        "plt.show()"
      ],
      "metadata": {
        "colab": {
          "base_uri": "https://localhost:8080/",
          "height": 265
        },
        "id": "FF2WNQKPKv7K",
        "outputId": "7f5a527c-a4fb-43f8-9473-0cf4e7955960"
      },
      "execution_count": 18,
      "outputs": [
        {
          "output_type": "display_data",
          "data": {
            "text/plain": [
              "<Figure size 432x288 with 1 Axes>"
            ],
            "image/png": "[encoded data removed]"
          },
          "metadata": {
            "needs_background": "light"
          }
        }
      ]
    },
    {
      "cell_type": "markdown",
      "source": [
        "As can it can be noticed in the previous results, the model with a linear decisin model under fits the data noticably with a testing  accuracy of about 68%. The reason for this is that the model type does not fit the data in question. Then a significant improvment appears when using the non-linear decision boindary. It may have over fitted the data bit because of a decrease in accuracy between trainig and testing but it may have been just noise. "
      ],
      "metadata": {
        "id": "HiE-UjeKLUHS"
      }
    },
    {
      "cell_type": "markdown",
      "source": [
        "The final requierment is to Repeat parts 1 and 2 but now using the logistic regression implementation of scikit-learn python library."
      ],
      "metadata": {
        "id": "MDntHdQcLVIR"
      }
    },
    {
      "cell_type": "code",
      "source": [
        "data = pd.read_csv(\"train.csv\", skiprows=0, index_col=False)\n",
        "X = data.iloc[:, [0,1]].to_numpy()\n",
        "y = res(data['class'].tolist())\n",
        "\n",
        "lrModel = LogisticRegression(random_state=0).fit(X, y)\n",
        "\n",
        "print(\"Accuracy on training set: {:.3f}\".format(lrModel.score(X, y)))\n",
        "\n",
        "data = pd.read_csv(\"test.csv\", skiprows=0, index_col=False)\n",
        "X = data.iloc[:, [0,1]].to_numpy()\n",
        "y = res(data['class'].tolist())\n",
        "\n",
        "print(\"Accuracy on training set: {:.3f}\".format(lrModel.score(X, y)))"
      ],
      "metadata": {
        "colab": {
          "base_uri": "https://localhost:8080/"
        },
        "id": "73mgVoBSPHyH",
        "outputId": "3d9e7fc2-8b72-4fe8-9feb-e918cde68daf"
      },
      "execution_count": 19,
      "outputs": [
        {
          "output_type": "stream",
          "name": "stdout",
          "text": [
            "Accuracy on training set: 0.661\n",
            "Accuracy on training set: 0.682\n"
          ]
        }
      ]
    },
    {
      "cell_type": "markdown",
      "source": [
        "The results here are similat to out results with the linear model."
      ],
      "metadata": {
        "id": "iOXD0c1LfX_C"
      }
    }
  ]
}